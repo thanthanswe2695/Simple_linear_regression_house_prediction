{
 "cells": [
  {
   "cell_type": "markdown",
   "metadata": {},
   "source": [
    "# House Price Accessment"
   ]
  },
  {
   "cell_type": "code",
   "execution_count": 1,
   "metadata": {},
   "outputs": [],
   "source": [
    "# Importing the libraries\n",
    "import pandas as pd\n",
    "import numpy as np\n",
    "import seaborn as sns\n",
    "import matplotlib.pyplot as plt\n",
    "from sklearn.preprocessing import LabelBinarizer # one hot encoding\n",
    "from sklearn.preprocessing import StandardScaler\n",
    "from sklearn.model_selection import train_test_split\n",
    "from sklearn.ensemble import RandomForestRegressor\n",
    "from sklearn.metrics import classification_report, confusion_matrix\n",
    "from sklearn.metrics import accuracy_score\n",
    "from sklearn.metrics import *\n",
    "import xgboost as xgb \n",
    "from sklearn.model_selection import cross_val_score,GridSearchCV\n",
    "from sklearn.model_selection import *\n",
    "from sklearn.ensemble import GradientBoostingRegressor"
   ]
  },
  {
   "cell_type": "markdown",
   "metadata": {},
   "source": [
    "1)Read the dataset into a data table using Pandas"
   ]
  },
  {
   "cell_type": "code",
   "execution_count": 2,
   "metadata": {},
   "outputs": [],
   "source": [
    "dataset=pd.read_csv('House_Pricing.csv')"
   ]
  },
  {
   "cell_type": "code",
   "execution_count": 3,
   "metadata": {},
   "outputs": [
    {
     "data": {
      "text/html": [
       "<div>\n",
       "<style scoped>\n",
       "    .dataframe tbody tr th:only-of-type {\n",
       "        vertical-align: middle;\n",
       "    }\n",
       "\n",
       "    .dataframe tbody tr th {\n",
       "        vertical-align: top;\n",
       "    }\n",
       "\n",
       "    .dataframe thead th {\n",
       "        text-align: right;\n",
       "    }\n",
       "</style>\n",
       "<table border=\"1\" class=\"dataframe\">\n",
       "  <thead>\n",
       "    <tr style=\"text-align: right;\">\n",
       "      <th></th>\n",
       "      <th>year_built</th>\n",
       "      <th>stories</th>\n",
       "      <th>num_bedrooms</th>\n",
       "      <th>full_bathrooms</th>\n",
       "      <th>half_bathrooms</th>\n",
       "      <th>livable_sqft</th>\n",
       "      <th>total_sqft</th>\n",
       "      <th>garage_type</th>\n",
       "      <th>garage_sqft</th>\n",
       "      <th>carport_sqft</th>\n",
       "      <th>has_fireplace</th>\n",
       "      <th>has_pool</th>\n",
       "      <th>has_central_heating</th>\n",
       "      <th>has_central_cooling</th>\n",
       "      <th>house_number</th>\n",
       "      <th>street_name</th>\n",
       "      <th>unit_number</th>\n",
       "      <th>city</th>\n",
       "      <th>zip_code</th>\n",
       "      <th>sale_price</th>\n",
       "    </tr>\n",
       "  </thead>\n",
       "  <tbody>\n",
       "    <tr>\n",
       "      <th>0</th>\n",
       "      <td>1978</td>\n",
       "      <td>1</td>\n",
       "      <td>4</td>\n",
       "      <td>1</td>\n",
       "      <td>1</td>\n",
       "      <td>1689</td>\n",
       "      <td>1859</td>\n",
       "      <td>attached</td>\n",
       "      <td>508</td>\n",
       "      <td>0</td>\n",
       "      <td>True</td>\n",
       "      <td>False</td>\n",
       "      <td>True</td>\n",
       "      <td>True</td>\n",
       "      <td>42670</td>\n",
       "      <td>Lopez Crossing</td>\n",
       "      <td>NaN</td>\n",
       "      <td>Hallfort</td>\n",
       "      <td>10907</td>\n",
       "      <td>270897.0</td>\n",
       "    </tr>\n",
       "    <tr>\n",
       "      <th>1</th>\n",
       "      <td>1958</td>\n",
       "      <td>1</td>\n",
       "      <td>3</td>\n",
       "      <td>1</td>\n",
       "      <td>1</td>\n",
       "      <td>1984</td>\n",
       "      <td>2002</td>\n",
       "      <td>attached</td>\n",
       "      <td>462</td>\n",
       "      <td>0</td>\n",
       "      <td>True</td>\n",
       "      <td>False</td>\n",
       "      <td>True</td>\n",
       "      <td>True</td>\n",
       "      <td>5194</td>\n",
       "      <td>Gardner Park</td>\n",
       "      <td>NaN</td>\n",
       "      <td>Hallfort</td>\n",
       "      <td>10907</td>\n",
       "      <td>302404.0</td>\n",
       "    </tr>\n",
       "    <tr>\n",
       "      <th>2</th>\n",
       "      <td>2002</td>\n",
       "      <td>1</td>\n",
       "      <td>3</td>\n",
       "      <td>2</td>\n",
       "      <td>0</td>\n",
       "      <td>1581</td>\n",
       "      <td>1578</td>\n",
       "      <td>none</td>\n",
       "      <td>0</td>\n",
       "      <td>625</td>\n",
       "      <td>False</td>\n",
       "      <td>False</td>\n",
       "      <td>True</td>\n",
       "      <td>True</td>\n",
       "      <td>4366</td>\n",
       "      <td>Harding Islands</td>\n",
       "      <td>NaN</td>\n",
       "      <td>Lake Christinaport</td>\n",
       "      <td>11203</td>\n",
       "      <td>2721596.0</td>\n",
       "    </tr>\n",
       "  </tbody>\n",
       "</table>\n",
       "</div>"
      ],
      "text/plain": [
       "   year_built  stories  num_bedrooms  full_bathrooms  half_bathrooms  \\\n",
       "0        1978        1             4               1               1   \n",
       "1        1958        1             3               1               1   \n",
       "2        2002        1             3               2               0   \n",
       "\n",
       "   livable_sqft  total_sqft garage_type  garage_sqft  carport_sqft  \\\n",
       "0          1689        1859    attached          508             0   \n",
       "1          1984        2002    attached          462             0   \n",
       "2          1581        1578        none            0           625   \n",
       "\n",
       "   has_fireplace  has_pool  has_central_heating  has_central_cooling  \\\n",
       "0           True     False                 True                 True   \n",
       "1           True     False                 True                 True   \n",
       "2          False     False                 True                 True   \n",
       "\n",
       "   house_number      street_name  unit_number                city  zip_code  \\\n",
       "0         42670   Lopez Crossing          NaN            Hallfort     10907   \n",
       "1          5194     Gardner Park          NaN            Hallfort     10907   \n",
       "2          4366  Harding Islands          NaN  Lake Christinaport     11203   \n",
       "\n",
       "   sale_price  \n",
       "0    270897.0  \n",
       "1    302404.0  \n",
       "2   2721596.0  "
      ]
     },
     "execution_count": 3,
     "metadata": {},
     "output_type": "execute_result"
    }
   ],
   "source": [
    "dataset.head(3)"
   ]
  },
  {
   "cell_type": "code",
   "execution_count": 4,
   "metadata": {},
   "outputs": [
    {
     "data": {
      "text/plain": [
       "year_built               int64\n",
       "stories                  int64\n",
       "num_bedrooms             int64\n",
       "full_bathrooms           int64\n",
       "half_bathrooms           int64\n",
       "livable_sqft             int64\n",
       "total_sqft               int64\n",
       "garage_type             object\n",
       "garage_sqft              int64\n",
       "carport_sqft             int64\n",
       "has_fireplace             bool\n",
       "has_pool                  bool\n",
       "has_central_heating       bool\n",
       "has_central_cooling       bool\n",
       "house_number             int64\n",
       "street_name             object\n",
       "unit_number            float64\n",
       "city                    object\n",
       "zip_code                 int64\n",
       "sale_price             float64\n",
       "dtype: object"
      ]
     },
     "execution_count": 4,
     "metadata": {},
     "output_type": "execute_result"
    }
   ],
   "source": [
    "dataset.dtypes"
   ]
  },
  {
   "cell_type": "code",
   "execution_count": 5,
   "metadata": {},
   "outputs": [
    {
     "data": {
      "text/plain": [
       "(42703, 20)"
      ]
     },
     "execution_count": 5,
     "metadata": {},
     "output_type": "execute_result"
    }
   ],
   "source": [
    "dataset.shape "
   ]
  },
  {
   "cell_type": "markdown",
   "metadata": {},
   "source": [
    "In this dataset , number of 42703 rows and 20 columns"
   ]
  },
  {
   "cell_type": "code",
   "execution_count": 6,
   "metadata": {},
   "outputs": [
    {
     "data": {
      "text/plain": [
       "['year_built',\n",
       " 'stories',\n",
       " 'num_bedrooms',\n",
       " 'full_bathrooms',\n",
       " 'half_bathrooms',\n",
       " 'livable_sqft',\n",
       " 'total_sqft',\n",
       " 'garage_type',\n",
       " 'garage_sqft',\n",
       " 'carport_sqft',\n",
       " 'has_fireplace',\n",
       " 'has_pool',\n",
       " 'has_central_heating',\n",
       " 'has_central_cooling',\n",
       " 'house_number',\n",
       " 'street_name',\n",
       " 'unit_number',\n",
       " 'city',\n",
       " 'zip_code',\n",
       " 'sale_price']"
      ]
     },
     "execution_count": 6,
     "metadata": {},
     "output_type": "execute_result"
    }
   ],
   "source": [
    "list(dataset.columns)"
   ]
  },
  {
   "cell_type": "markdown",
   "metadata": {},
   "source": [
    "2) Remove (House number,Unit number,Street Name,Zip Code) columns"
   ]
  },
  {
   "cell_type": "code",
   "execution_count": 7,
   "metadata": {},
   "outputs": [],
   "source": [
    "dataset=dataset.drop(['house_number', 'unit_number','street_name','zip_code'], axis = 1) "
   ]
  },
  {
   "cell_type": "code",
   "execution_count": 8,
   "metadata": {},
   "outputs": [
    {
     "data": {
      "text/plain": [
       "(42703, 16)"
      ]
     },
     "execution_count": 8,
     "metadata": {},
     "output_type": "execute_result"
    }
   ],
   "source": [
    "dataset.shape"
   ]
  },
  {
   "cell_type": "markdown",
   "metadata": {},
   "source": [
    "After removing four columns, dataset has 16 columns only."
   ]
  },
  {
   "cell_type": "markdown",
   "metadata": {},
   "source": [
    "After converting categorical varibales"
   ]
  },
  {
   "cell_type": "code",
   "execution_count": 9,
   "metadata": {},
   "outputs": [
    {
     "name": "stdout",
     "output_type": "stream",
     "text": [
      "Maximum price :  22935778.0\n",
      "Minimum price :  664.0\n",
      "Mean price : 441986.20551249327\n"
     ]
    }
   ],
   "source": [
    "price_category=dataset['sale_price']\n",
    "print('Maximum price : ',price_category.max() )\n",
    "print('Minimum price : ',price_category.min())\n",
    "print('Mean price :',price_category.mean())"
   ]
  },
  {
   "cell_type": "markdown",
   "metadata": {},
   "source": [
    "3) Convert Y variable (Price) into 2 categories"
   ]
  },
  {
   "cell_type": "code",
   "execution_count": 10,
   "metadata": {},
   "outputs": [],
   "source": [
    "#set up bins\n",
    "bin=[664.0,441986.20551249327,22935778.0]\n",
    "#use pd.cut function can attribute the values into its specific bins\n",
    "# 'o' means the range between minimum and mean values, '1' means the range between mean and maximum values\n",
    "category = pd.cut(price_category,bin,labels=['0','1'])  \n",
    "category = category.to_frame()\n",
    "category.columns = ['sale_category']\n",
    "#Replace an entire  sale_price and its bin\n",
    "new_dataset = pd.concat([dataset,category],axis=1)"
   ]
  },
  {
   "cell_type": "markdown",
   "metadata": {},
   "source": [
    "After converting categorical varibales"
   ]
  },
  {
   "cell_type": "code",
   "execution_count": 11,
   "metadata": {},
   "outputs": [
    {
     "data": {
      "text/html": [
       "<div>\n",
       "<style scoped>\n",
       "    .dataframe tbody tr th:only-of-type {\n",
       "        vertical-align: middle;\n",
       "    }\n",
       "\n",
       "    .dataframe tbody tr th {\n",
       "        vertical-align: top;\n",
       "    }\n",
       "\n",
       "    .dataframe thead th {\n",
       "        text-align: right;\n",
       "    }\n",
       "</style>\n",
       "<table border=\"1\" class=\"dataframe\">\n",
       "  <thead>\n",
       "    <tr style=\"text-align: right;\">\n",
       "      <th></th>\n",
       "      <th>year_built</th>\n",
       "      <th>stories</th>\n",
       "      <th>num_bedrooms</th>\n",
       "      <th>full_bathrooms</th>\n",
       "      <th>half_bathrooms</th>\n",
       "      <th>livable_sqft</th>\n",
       "      <th>total_sqft</th>\n",
       "      <th>garage_type</th>\n",
       "      <th>garage_sqft</th>\n",
       "      <th>carport_sqft</th>\n",
       "      <th>has_fireplace</th>\n",
       "      <th>has_pool</th>\n",
       "      <th>has_central_heating</th>\n",
       "      <th>has_central_cooling</th>\n",
       "      <th>city</th>\n",
       "      <th>sale_price</th>\n",
       "      <th>sale_category</th>\n",
       "    </tr>\n",
       "  </thead>\n",
       "  <tbody>\n",
       "    <tr>\n",
       "      <th>0</th>\n",
       "      <td>1978</td>\n",
       "      <td>1</td>\n",
       "      <td>4</td>\n",
       "      <td>1</td>\n",
       "      <td>1</td>\n",
       "      <td>1689</td>\n",
       "      <td>1859</td>\n",
       "      <td>attached</td>\n",
       "      <td>508</td>\n",
       "      <td>0</td>\n",
       "      <td>True</td>\n",
       "      <td>False</td>\n",
       "      <td>True</td>\n",
       "      <td>True</td>\n",
       "      <td>Hallfort</td>\n",
       "      <td>270897.0</td>\n",
       "      <td>0</td>\n",
       "    </tr>\n",
       "    <tr>\n",
       "      <th>1</th>\n",
       "      <td>1958</td>\n",
       "      <td>1</td>\n",
       "      <td>3</td>\n",
       "      <td>1</td>\n",
       "      <td>1</td>\n",
       "      <td>1984</td>\n",
       "      <td>2002</td>\n",
       "      <td>attached</td>\n",
       "      <td>462</td>\n",
       "      <td>0</td>\n",
       "      <td>True</td>\n",
       "      <td>False</td>\n",
       "      <td>True</td>\n",
       "      <td>True</td>\n",
       "      <td>Hallfort</td>\n",
       "      <td>302404.0</td>\n",
       "      <td>0</td>\n",
       "    </tr>\n",
       "    <tr>\n",
       "      <th>2</th>\n",
       "      <td>2002</td>\n",
       "      <td>1</td>\n",
       "      <td>3</td>\n",
       "      <td>2</td>\n",
       "      <td>0</td>\n",
       "      <td>1581</td>\n",
       "      <td>1578</td>\n",
       "      <td>none</td>\n",
       "      <td>0</td>\n",
       "      <td>625</td>\n",
       "      <td>False</td>\n",
       "      <td>False</td>\n",
       "      <td>True</td>\n",
       "      <td>True</td>\n",
       "      <td>Lake Christinaport</td>\n",
       "      <td>2721596.0</td>\n",
       "      <td>1</td>\n",
       "    </tr>\n",
       "  </tbody>\n",
       "</table>\n",
       "</div>"
      ],
      "text/plain": [
       "   year_built  stories  num_bedrooms  full_bathrooms  half_bathrooms  \\\n",
       "0        1978        1             4               1               1   \n",
       "1        1958        1             3               1               1   \n",
       "2        2002        1             3               2               0   \n",
       "\n",
       "   livable_sqft  total_sqft garage_type  garage_sqft  carport_sqft  \\\n",
       "0          1689        1859    attached          508             0   \n",
       "1          1984        2002    attached          462             0   \n",
       "2          1581        1578        none            0           625   \n",
       "\n",
       "   has_fireplace  has_pool  has_central_heating  has_central_cooling  \\\n",
       "0           True     False                 True                 True   \n",
       "1           True     False                 True                 True   \n",
       "2          False     False                 True                 True   \n",
       "\n",
       "                 city  sale_price sale_category  \n",
       "0            Hallfort    270897.0             0  \n",
       "1            Hallfort    302404.0             0  \n",
       "2  Lake Christinaport   2721596.0             1  "
      ]
     },
     "execution_count": 11,
     "metadata": {},
     "output_type": "execute_result"
    }
   ],
   "source": [
    "new_dataset.head(3)"
   ]
  },
  {
   "cell_type": "code",
   "execution_count": 12,
   "metadata": {},
   "outputs": [
    {
     "data": {
      "text/plain": [
       "count    42703.000000\n",
       "mean      1990.993209\n",
       "std         19.199987\n",
       "min       1852.000000\n",
       "25%       1980.000000\n",
       "50%       1994.000000\n",
       "75%       2005.000000\n",
       "max       2017.000000\n",
       "Name: year_built, dtype: float64"
      ]
     },
     "execution_count": 12,
     "metadata": {},
     "output_type": "execute_result"
    }
   ],
   "source": [
    "# year_built\n",
    "#descriptive statistics summary\n",
    "new_dataset['year_built'].describe()"
   ]
  },
  {
   "cell_type": "code",
   "execution_count": 13,
   "metadata": {},
   "outputs": [
    {
     "data": {
      "text/plain": [
       "2005    2046\n",
       "2004    1914\n",
       "2006    1720\n",
       "2014    1691\n",
       "2015    1671\n",
       "2003    1589\n",
       "1989    1324\n",
       "1988    1307\n",
       "2002    1233\n",
       "2016    1203\n",
       "2007    1126\n",
       "1990    1038\n",
       "2001    1017\n",
       "1987     947\n",
       "2000     859\n",
       "1986     834\n",
       "1985     830\n",
       "1991     705\n",
       "1978     703\n",
       "1999     701\n",
       "1979     687\n",
       "1984     670\n",
       "1980     658\n",
       "2008     647\n",
       "2013     598\n",
       "1998     593\n",
       "1981     564\n",
       "1977     550\n",
       "1997     524\n",
       "1983     510\n",
       "        ... \n",
       "1932      14\n",
       "2017      12\n",
       "1933      12\n",
       "1913      11\n",
       "1934      11\n",
       "1915      10\n",
       "1912      10\n",
       "1906       8\n",
       "1908       7\n",
       "1901       6\n",
       "1899       6\n",
       "1905       5\n",
       "1916       5\n",
       "1904       5\n",
       "1907       4\n",
       "1917       4\n",
       "1918       3\n",
       "1898       2\n",
       "1894       2\n",
       "1902       2\n",
       "1903       2\n",
       "1889       1\n",
       "1893       1\n",
       "1895       1\n",
       "1900       1\n",
       "1885       1\n",
       "1886       1\n",
       "1891       1\n",
       "1852       1\n",
       "1890       1\n",
       "Name: year_built, Length: 129, dtype: int64"
      ]
     },
     "execution_count": 13,
     "metadata": {},
     "output_type": "execute_result"
    }
   ],
   "source": [
    "new_dataset['year_built'].value_counts()"
   ]
  },
  {
   "cell_type": "code",
   "execution_count": 14,
   "metadata": {},
   "outputs": [
    {
     "data": {
      "text/plain": [
       "<function seaborn.utils.despine(fig=None, ax=None, top=True, right=True, left=False, bottom=False, offset=None, trim=False)>"
      ]
     },
     "execution_count": 14,
     "metadata": {},
     "output_type": "execute_result"
    },
    {
     "data": {
      "image/png": "[encoded data removed]",
      "text/plain": [
       "<Figure size 432x288 with 1 Axes>"
      ]
     },
     "metadata": {
      "needs_background": "light"
     },
     "output_type": "display_data"
    }
   ],
   "source": [
    "plt.hist(new_dataset['year_built'],bins=10)\n",
    "plt.title('Building Year')\n",
    "plt.xlabel('Year')\n",
    "plt.ylabel('Number of Buildings')\n",
    "sns.despine"
   ]
  },
  {
   "cell_type": "markdown",
   "metadata": {},
   "source": [
    "Looking at the above figure, the number of buildings has been increasing  simultaenously from 1890 to 2005."
   ]
  },
  {
   "cell_type": "code",
   "execution_count": 15,
   "metadata": {},
   "outputs": [
    {
     "data": {
      "text/plain": [
       "<matplotlib.axes._subplots.AxesSubplot at 0x7f844d115668>"
      ]
     },
     "execution_count": 15,
     "metadata": {},
     "output_type": "execute_result"
    },
    {
     "data": {
      "image/png": "[encoded data removed]",
      "text/plain": [
       "<Figure size 720x360 with 1 Axes>"
      ]
     },
     "metadata": {
      "needs_background": "light"
     },
     "output_type": "display_data"
    }
   ],
   "source": [
    "new_dataset['city'].value_counts().head(15).plot(kind='barh', figsize=(10,5))"
   ]
  },
  {
   "cell_type": "markdown",
   "metadata": {},
   "source": [
    "Looking at the bar plot , Chadstad city has the maximum number of buildings."
   ]
  },
  {
   "cell_type": "code",
   "execution_count": 16,
   "metadata": {},
   "outputs": [
    {
     "data": {
      "text/plain": [
       "<matplotlib.axes._subplots.AxesSubplot at 0x7f844d003860>"
      ]
     },
     "execution_count": 16,
     "metadata": {},
     "output_type": "execute_result"
    },
    {
     "data": {
      "image/png": "[encoded data removed]",
      "text/plain": [
       "<Figure size 432x288 with 1 Axes>"
      ]
     },
     "metadata": {
      "needs_background": "light"
     },
     "output_type": "display_data"
    }
   ],
   "source": [
    "###Try to see how many null values have using heatmap(2-D)dimension ?\n",
    "sns.heatmap(new_dataset.isnull(),yticklabels=False,cbar=False)"
   ]
  },
  {
   "cell_type": "markdown",
   "metadata": {},
   "source": [
    "After checking 2-dimensional heatmap  , then no missing values "
   ]
  },
  {
   "cell_type": "markdown",
   "metadata": {},
   "source": [
    "4) Replace categorical data with one-hot encoded data(Garage type,city)"
   ]
  },
  {
   "cell_type": "code",
   "execution_count": 17,
   "metadata": {},
   "outputs": [
    {
     "data": {
      "text/plain": [
       "attached    34079\n",
       "none         5912\n",
       "detached     2712\n",
       "Name: garage_type, dtype: int64"
      ]
     },
     "execution_count": 17,
     "metadata": {},
     "output_type": "execute_result"
    }
   ],
   "source": [
    "new_dataset['garage_type'].value_counts()  "
   ]
  },
  {
   "cell_type": "code",
   "execution_count": 18,
   "metadata": {},
   "outputs": [
    {
     "data": {
      "text/plain": [
       "<function seaborn.utils.despine(fig=None, ax=None, top=True, right=True, left=False, bottom=False, offset=None, trim=False)>"
      ]
     },
     "execution_count": 18,
     "metadata": {},
     "output_type": "execute_result"
    },
    {
     "data": {
      "image/png": "[encoded data removed]",
      "text/plain": [
       "<Figure size 432x288 with 1 Axes>"
      ]
     },
     "metadata": {
      "needs_background": "light"
     },
     "output_type": "display_data"
    }
   ],
   "source": [
    "new_dataset['garage_type'].value_counts().plot(kind='bar')\n",
    "plt.title('Type of Garge')\n",
    "plt.xlabel('Garge')\n",
    "plt.ylabel('Units')\n",
    "sns.despine"
   ]
  },
  {
   "cell_type": "code",
   "execution_count": 19,
   "metadata": {},
   "outputs": [],
   "source": [
    "# Replace categorical data with one-hot encoded data(Garage type,city)\n",
    "new_dataset['garage_type']\n",
    "new_dataset.groupby('garage_type').size()\n",
    "# convert the data type to category\n",
    "new_dataset['garage_type'] = new_dataset['garage_type'].astype('category')"
   ]
  },
  {
   "cell_type": "code",
   "execution_count": 20,
   "metadata": {},
   "outputs": [],
   "source": [
    "#label encoding\n",
    "new_dataset['garage_type_cat']= new_dataset['garage_type'].cat.codes"
   ]
  },
  {
   "cell_type": "code",
   "execution_count": 21,
   "metadata": {},
   "outputs": [
    {
     "data": {
      "text/plain": [
       "garage_type  garage_type_cat\n",
       "attached     0                  34079\n",
       "detached     1                   2712\n",
       "none         2                   5912\n",
       "dtype: int64"
      ]
     },
     "execution_count": 21,
     "metadata": {},
     "output_type": "execute_result"
    }
   ],
   "source": [
    "new_dataset.groupby(['garage_type', 'garage_type_cat']).size()"
   ]
  },
  {
   "cell_type": "code",
   "execution_count": 22,
   "metadata": {},
   "outputs": [],
   "source": [
    "df_one_hot = new_dataset.copy()\n",
    "lb = LabelBinarizer()\n",
    "lb_results = lb.fit_transform(df_one_hot['garage_type'])\n",
    "lb_results_df = pd.DataFrame(lb_results, columns=lb.classes_)"
   ]
  },
  {
   "cell_type": "code",
   "execution_count": 23,
   "metadata": {},
   "outputs": [
    {
     "name": "stdout",
     "output_type": "stream",
     "text": [
      "original df dimensions: (42703, 18)\n",
      "one hot encoded df dimensions: (42703, 21)\n"
     ]
    }
   ],
   "source": [
    "## concatenate this data to our data set\n",
    "final_df = pd.concat([df_one_hot, lb_results_df], axis=1)\n",
    "print('original df dimensions:', new_dataset.shape)\n",
    "print('one hot encoded df dimensions:', final_df.shape)"
   ]
  },
  {
   "cell_type": "code",
   "execution_count": 24,
   "metadata": {},
   "outputs": [],
   "source": [
    "# Replace categorical data with one-hot encoded data(city)\n",
    "final_df['city']\n",
    "final_df.groupby('city').size()\n",
    "# convert the data type to category\n",
    "final_df['city'] = final_df['city'].astype('category')"
   ]
  },
  {
   "cell_type": "code",
   "execution_count": 25,
   "metadata": {},
   "outputs": [],
   "source": [
    "#label encoding\n",
    "final_df['city_cat']= final_df['city'].cat.codes"
   ]
  },
  {
   "cell_type": "code",
   "execution_count": 26,
   "metadata": {},
   "outputs": [
    {
     "data": {
      "text/plain": [
       "city                  city_cat\n",
       "Amystad               0            561\n",
       "Brownport             1            209\n",
       "Chadstad              2           4962\n",
       "Clarkberg             3            174\n",
       "Coletown              4           3739\n",
       "Davidfort             5           1703\n",
       "Davidtown             6             18\n",
       "East Amychester       7            792\n",
       "East Janiceville      8            248\n",
       "East Justin           9            112\n",
       "East Lucas            10          1359\n",
       "Fosterberg            11            26\n",
       "Hallfort              12          2448\n",
       "Jeffreyhaven          13          2981\n",
       "Jenniferberg          14           275\n",
       "Joshuafurt            15           745\n",
       "Julieberg             16             6\n",
       "Justinport            17           272\n",
       "Lake Carolyn          18           637\n",
       "Lake Christinaport    19           833\n",
       "Lake Dariusborough    20          1441\n",
       "Lake Jack             21          1831\n",
       "Lake Jennifer         22            83\n",
       "Leahview              23            27\n",
       "Lewishaven            24          2271\n",
       "Martinezfort          25             9\n",
       "Morrisport            26           654\n",
       "New Michele           27             2\n",
       "New Robinton          28             1\n",
       "North Erinville       29          2868\n",
       "Port Adamtown         30           416\n",
       "Port Andrealand       31          2669\n",
       "Port Daniel           32            52\n",
       "Port Jonathanborough  33          1344\n",
       "Richardport           34           297\n",
       "Rickytown             35            14\n",
       "Scottberg             36          1009\n",
       "South Anthony         37          1849\n",
       "South Stevenfurt      38            53\n",
       "Toddshire             39            27\n",
       "Wendybury             40           587\n",
       "West Ann              41          1397\n",
       "West Brittanyview     42           120\n",
       "West Gerald           43           151\n",
       "West Gregoryview      44           615\n",
       "West Lydia            45           709\n",
       "West Terrence         46           107\n",
       "dtype: int64"
      ]
     },
     "execution_count": 26,
     "metadata": {},
     "output_type": "execute_result"
    }
   ],
   "source": [
    "final_df.groupby(['city', 'city_cat']).size()"
   ]
  },
  {
   "cell_type": "code",
   "execution_count": 27,
   "metadata": {},
   "outputs": [],
   "source": [
    "# one hot encoding\n",
    "df_one_hot = final_df.copy()\n",
    "lb = LabelBinarizer()\n",
    "lb_results = lb.fit_transform(df_one_hot['city'])\n",
    "lb_results_df = pd.DataFrame(lb_results, columns=lb.classes_)\n",
    "lb_results_df.head()\n",
    "# concatenate this data to our data set\n",
    "final_dataset = pd.concat([final_df, lb_results_df], axis=1)"
   ]
  },
  {
   "cell_type": "code",
   "execution_count": 28,
   "metadata": {},
   "outputs": [
    {
     "name": "stdout",
     "output_type": "stream",
     "text": [
      "original df dimensions: (42703, 16)\n",
      "one hot encoded df dimensions: (42703, 69)\n"
     ]
    }
   ],
   "source": [
    "print('original df dimensions:', dataset.shape)\n",
    "print('one hot encoded df dimensions:', final_dataset.shape)"
   ]
  },
  {
   "cell_type": "code",
   "execution_count": 29,
   "metadata": {},
   "outputs": [],
   "source": [
    "df=final_dataset.drop(['garage_type', 'city'], axis=1)  # dropping city and garage_type columns"
   ]
  },
  {
   "cell_type": "code",
   "execution_count": 30,
   "metadata": {},
   "outputs": [
    {
     "data": {
      "text/plain": [
       "year_built              False\n",
       "stories                 False\n",
       "num_bedrooms            False\n",
       "full_bathrooms          False\n",
       "half_bathrooms          False\n",
       "livable_sqft            False\n",
       "total_sqft              False\n",
       "garage_sqft             False\n",
       "carport_sqft            False\n",
       "has_fireplace           False\n",
       "has_pool                False\n",
       "has_central_heating     False\n",
       "has_central_cooling     False\n",
       "sale_price              False\n",
       "sale_category            True\n",
       "garage_type_cat         False\n",
       "attached                False\n",
       "detached                False\n",
       "none                    False\n",
       "city_cat                False\n",
       "Amystad                 False\n",
       "Brownport               False\n",
       "Chadstad                False\n",
       "Clarkberg               False\n",
       "Coletown                False\n",
       "Davidfort               False\n",
       "Davidtown               False\n",
       "East Amychester         False\n",
       "East Janiceville        False\n",
       "East Justin             False\n",
       "                        ...  \n",
       "Justinport              False\n",
       "Lake Carolyn            False\n",
       "Lake Christinaport      False\n",
       "Lake Dariusborough      False\n",
       "Lake Jack               False\n",
       "Lake Jennifer           False\n",
       "Leahview                False\n",
       "Lewishaven              False\n",
       "Martinezfort            False\n",
       "Morrisport              False\n",
       "New Michele             False\n",
       "New Robinton            False\n",
       "North Erinville         False\n",
       "Port Adamtown           False\n",
       "Port Andrealand         False\n",
       "Port Daniel             False\n",
       "Port Jonathanborough    False\n",
       "Richardport             False\n",
       "Rickytown               False\n",
       "Scottberg               False\n",
       "South Anthony           False\n",
       "South Stevenfurt        False\n",
       "Toddshire               False\n",
       "Wendybury               False\n",
       "West Ann                False\n",
       "West Brittanyview       False\n",
       "West Gerald             False\n",
       "West Gregoryview        False\n",
       "West Lydia              False\n",
       "West Terrence           False\n",
       "Length: 67, dtype: bool"
      ]
     },
     "execution_count": 30,
     "metadata": {},
     "output_type": "execute_result"
    }
   ],
   "source": [
    "# Check for Missing Values in Dataset\n",
    "df.isnull().any()"
   ]
  },
  {
   "cell_type": "markdown",
   "metadata": {},
   "source": [
    "find out null values in sale column"
   ]
  },
  {
   "cell_type": "code",
   "execution_count": 31,
   "metadata": {},
   "outputs": [],
   "source": [
    "#missing values in sale_price column\n",
    "df.dropna(axis=0, how='any', inplace=True)"
   ]
  },
  {
   "cell_type": "code",
   "execution_count": 32,
   "metadata": {},
   "outputs": [
    {
     "data": {
      "text/plain": [
       "(42699, 67)"
      ]
     },
     "execution_count": 32,
     "metadata": {},
     "output_type": "execute_result"
    }
   ],
   "source": [
    "df.shape"
   ]
  },
  {
   "cell_type": "markdown",
   "metadata": {},
   "source": [
    "5) Create the X and y arrays"
   ]
  },
  {
   "cell_type": "code",
   "execution_count": 33,
   "metadata": {},
   "outputs": [],
   "source": [
    "# df['has_fireplace'] = df['has_fireplace'].astype(int)\n",
    "# df['has_pool'] = df['has_pool'].astype(int)\n",
    "# df['has_central_heating'] = df['has_central_heating'].astype(int)\n",
    "# df['has_central_cooling'] = df['has_central_cooling'].astype(int)"
   ]
  },
  {
   "cell_type": "code",
   "execution_count": 34,
   "metadata": {},
   "outputs": [
    {
     "data": {
      "text/html": [
       "<div>\n",
       "<style scoped>\n",
       "    .dataframe tbody tr th:only-of-type {\n",
       "        vertical-align: middle;\n",
       "    }\n",
       "\n",
       "    .dataframe tbody tr th {\n",
       "        vertical-align: top;\n",
       "    }\n",
       "\n",
       "    .dataframe thead th {\n",
       "        text-align: right;\n",
       "    }\n",
       "</style>\n",
       "<table border=\"1\" class=\"dataframe\">\n",
       "  <thead>\n",
       "    <tr style=\"text-align: right;\">\n",
       "      <th></th>\n",
       "      <th>year_built</th>\n",
       "      <th>stories</th>\n",
       "      <th>num_bedrooms</th>\n",
       "      <th>full_bathrooms</th>\n",
       "      <th>half_bathrooms</th>\n",
       "      <th>livable_sqft</th>\n",
       "      <th>total_sqft</th>\n",
       "      <th>garage_sqft</th>\n",
       "      <th>carport_sqft</th>\n",
       "      <th>sale_price</th>\n",
       "      <th>...</th>\n",
       "      <th>West Lydia</th>\n",
       "      <th>West Terrence</th>\n",
       "      <th>has_fireplace_False</th>\n",
       "      <th>has_fireplace_True</th>\n",
       "      <th>has_pool_False</th>\n",
       "      <th>has_pool_True</th>\n",
       "      <th>has_central_heating_False</th>\n",
       "      <th>has_central_heating_True</th>\n",
       "      <th>has_central_cooling_False</th>\n",
       "      <th>has_central_cooling_True</th>\n",
       "    </tr>\n",
       "  </thead>\n",
       "  <tbody>\n",
       "    <tr>\n",
       "      <th>0</th>\n",
       "      <td>1978</td>\n",
       "      <td>1</td>\n",
       "      <td>4</td>\n",
       "      <td>1</td>\n",
       "      <td>1</td>\n",
       "      <td>1689</td>\n",
       "      <td>1859</td>\n",
       "      <td>508</td>\n",
       "      <td>0</td>\n",
       "      <td>270897.0</td>\n",
       "      <td>...</td>\n",
       "      <td>0</td>\n",
       "      <td>0</td>\n",
       "      <td>0</td>\n",
       "      <td>1</td>\n",
       "      <td>1</td>\n",
       "      <td>0</td>\n",
       "      <td>0</td>\n",
       "      <td>1</td>\n",
       "      <td>0</td>\n",
       "      <td>1</td>\n",
       "    </tr>\n",
       "    <tr>\n",
       "      <th>1</th>\n",
       "      <td>1958</td>\n",
       "      <td>1</td>\n",
       "      <td>3</td>\n",
       "      <td>1</td>\n",
       "      <td>1</td>\n",
       "      <td>1984</td>\n",
       "      <td>2002</td>\n",
       "      <td>462</td>\n",
       "      <td>0</td>\n",
       "      <td>302404.0</td>\n",
       "      <td>...</td>\n",
       "      <td>0</td>\n",
       "      <td>0</td>\n",
       "      <td>0</td>\n",
       "      <td>1</td>\n",
       "      <td>1</td>\n",
       "      <td>0</td>\n",
       "      <td>0</td>\n",
       "      <td>1</td>\n",
       "      <td>0</td>\n",
       "      <td>1</td>\n",
       "    </tr>\n",
       "    <tr>\n",
       "      <th>2</th>\n",
       "      <td>2002</td>\n",
       "      <td>1</td>\n",
       "      <td>3</td>\n",
       "      <td>2</td>\n",
       "      <td>0</td>\n",
       "      <td>1581</td>\n",
       "      <td>1578</td>\n",
       "      <td>0</td>\n",
       "      <td>625</td>\n",
       "      <td>2721596.0</td>\n",
       "      <td>...</td>\n",
       "      <td>0</td>\n",
       "      <td>0</td>\n",
       "      <td>1</td>\n",
       "      <td>0</td>\n",
       "      <td>1</td>\n",
       "      <td>0</td>\n",
       "      <td>0</td>\n",
       "      <td>1</td>\n",
       "      <td>0</td>\n",
       "      <td>1</td>\n",
       "    </tr>\n",
       "    <tr>\n",
       "      <th>3</th>\n",
       "      <td>2004</td>\n",
       "      <td>1</td>\n",
       "      <td>4</td>\n",
       "      <td>2</td>\n",
       "      <td>0</td>\n",
       "      <td>1829</td>\n",
       "      <td>2277</td>\n",
       "      <td>479</td>\n",
       "      <td>0</td>\n",
       "      <td>212968.0</td>\n",
       "      <td>...</td>\n",
       "      <td>0</td>\n",
       "      <td>0</td>\n",
       "      <td>0</td>\n",
       "      <td>1</td>\n",
       "      <td>1</td>\n",
       "      <td>0</td>\n",
       "      <td>0</td>\n",
       "      <td>1</td>\n",
       "      <td>0</td>\n",
       "      <td>1</td>\n",
       "    </tr>\n",
       "    <tr>\n",
       "      <th>4</th>\n",
       "      <td>2006</td>\n",
       "      <td>1</td>\n",
       "      <td>4</td>\n",
       "      <td>2</td>\n",
       "      <td>0</td>\n",
       "      <td>1580</td>\n",
       "      <td>1749</td>\n",
       "      <td>430</td>\n",
       "      <td>0</td>\n",
       "      <td>224529.0</td>\n",
       "      <td>...</td>\n",
       "      <td>0</td>\n",
       "      <td>0</td>\n",
       "      <td>0</td>\n",
       "      <td>1</td>\n",
       "      <td>1</td>\n",
       "      <td>0</td>\n",
       "      <td>0</td>\n",
       "      <td>1</td>\n",
       "      <td>0</td>\n",
       "      <td>1</td>\n",
       "    </tr>\n",
       "  </tbody>\n",
       "</table>\n",
       "<p>5 rows × 71 columns</p>\n",
       "</div>"
      ],
      "text/plain": [
       "   year_built  stories  num_bedrooms  full_bathrooms  half_bathrooms  \\\n",
       "0        1978        1             4               1               1   \n",
       "1        1958        1             3               1               1   \n",
       "2        2002        1             3               2               0   \n",
       "3        2004        1             4               2               0   \n",
       "4        2006        1             4               2               0   \n",
       "\n",
       "   livable_sqft  total_sqft  garage_sqft  carport_sqft  sale_price  ...  \\\n",
       "0          1689        1859          508             0    270897.0  ...   \n",
       "1          1984        2002          462             0    302404.0  ...   \n",
       "2          1581        1578            0           625   2721596.0  ...   \n",
       "3          1829        2277          479             0    212968.0  ...   \n",
       "4          1580        1749          430             0    224529.0  ...   \n",
       "\n",
       "  West Lydia  West Terrence  has_fireplace_False  has_fireplace_True  \\\n",
       "0          0              0                    0                   1   \n",
       "1          0              0                    0                   1   \n",
       "2          0              0                    1                   0   \n",
       "3          0              0                    0                   1   \n",
       "4          0              0                    0                   1   \n",
       "\n",
       "   has_pool_False  has_pool_True  has_central_heating_False  \\\n",
       "0               1              0                          0   \n",
       "1               1              0                          0   \n",
       "2               1              0                          0   \n",
       "3               1              0                          0   \n",
       "4               1              0                          0   \n",
       "\n",
       "   has_central_heating_True  has_central_cooling_False  \\\n",
       "0                         1                          0   \n",
       "1                         1                          0   \n",
       "2                         1                          0   \n",
       "3                         1                          0   \n",
       "4                         1                          0   \n",
       "\n",
       "   has_central_cooling_True  \n",
       "0                         1  \n",
       "1                         1  \n",
       "2                         1  \n",
       "3                         1  \n",
       "4                         1  \n",
       "\n",
       "[5 rows x 71 columns]"
      ]
     },
     "execution_count": 34,
     "metadata": {},
     "output_type": "execute_result"
    }
   ],
   "source": [
    "dummy_fields = ['has_fireplace', 'has_pool', 'has_central_heating', \n",
    "                  'has_central_cooling']\n",
    "for each in dummy_fields:\n",
    "    dummies = pd.get_dummies(df[each], prefix=each, drop_first=False)\n",
    "    df = pd.concat([df, dummies], axis=1)\n",
    "\n",
    "fields_to_drop = ['has_fireplace','has_pool','has_central_heating','has_central_cooling']\n",
    "df = df.drop(fields_to_drop, axis=1)\n",
    "df.head()"
   ]
  },
  {
   "cell_type": "code",
   "execution_count": 35,
   "metadata": {},
   "outputs": [],
   "source": [
    "# Create the X and y arrays\n",
    "df_train=df[df.columns[1:66]] \n",
    "X_train=df_train.drop(['sale_price'],axis=1) # dropping sale_price column\n",
    "X=X_train[:].values\n",
    "y= df.loc[:, 'sale_price'].values"
   ]
  },
  {
   "cell_type": "markdown",
   "metadata": {},
   "source": [
    "6) Split the data set in a training set (80%) and a test set (20%)"
   ]
  },
  {
   "cell_type": "code",
   "execution_count": 36,
   "metadata": {},
   "outputs": [],
   "source": [
    "X_train, X_test, Y_train, Y_test = train_test_split(X, y, test_size=0.2, random_state=0)"
   ]
  },
  {
   "cell_type": "markdown",
   "metadata": {},
   "source": [
    "## Feature Scaling"
   ]
  },
  {
   "cell_type": "code",
   "execution_count": 37,
   "metadata": {},
   "outputs": [
    {
     "name": "stdout",
     "output_type": "stream",
     "text": [
      "StandardScaler(copy=True, with_mean=True, with_std=True)\n"
     ]
    }
   ],
   "source": [
    "# Apply Standard Scalar function to the Numerical Columns\n",
    "from sklearn.preprocessing import StandardScaler\n",
    "scaler = StandardScaler()\n",
    "print(scaler.fit(df))"
   ]
  },
  {
   "cell_type": "code",
   "execution_count": 38,
   "metadata": {},
   "outputs": [
    {
     "name": "stdout",
     "output_type": "stream",
     "text": [
      "[[-0.67689721 -0.71220377  0.75775897 ...  0.25505295 -0.32758281\n",
      "   0.32758281]\n",
      " [-1.71862286 -0.71220377 -0.20078199 ...  0.25505295 -0.32758281\n",
      "   0.32758281]\n",
      " [ 0.57317355 -0.71220377 -0.20078199 ...  0.25505295 -0.32758281\n",
      "   0.32758281]\n",
      " ...\n",
      " [-0.4164658  -0.71220377 -2.11786392 ...  0.25505295 -0.32758281\n",
      "   0.32758281]\n",
      " [-0.52063837 -0.71220377 -0.20078199 ...  0.25505295 -0.32758281\n",
      "   0.32758281]\n",
      " [-0.57272465 -0.71220377 -0.20078199 ...  0.25505295 -0.32758281\n",
      "   0.32758281]]\n"
     ]
    }
   ],
   "source": [
    "print(scaler.transform(df))"
   ]
  },
  {
   "cell_type": "markdown",
   "metadata": {},
   "source": [
    "# 7) Define a model, using Random Forest and Gradient Boosting Regressor"
   ]
  },
  {
   "cell_type": "markdown",
   "metadata": {},
   "source": [
    "# Random Forest Regressor"
   ]
  },
  {
   "cell_type": "raw",
   "metadata": {},
   "source": [
    "# Random Forest Classifier  Using GridSearch"
   ]
  },
  {
   "cell_type": "code",
   "execution_count": 39,
   "metadata": {},
   "outputs": [],
   "source": [
    "param_grid = {\n",
    "    'bootstrap': [True],\n",
    "    'max_depth': [6],\n",
    "    'max_features': [1.0],\n",
    "    'min_samples_leaf': [17],\n",
    "    'n_estimators': [500],\n",
    "    'random_state':[0],\n",
    "}"
   ]
  },
  {
   "cell_type": "code",
   "execution_count": 40,
   "metadata": {},
   "outputs": [],
   "source": [
    "random_classifier_ = RandomForestRegressor()"
   ]
  },
  {
   "cell_type": "code",
   "execution_count": 41,
   "metadata": {},
   "outputs": [],
   "source": [
    "random_gridsearch = GridSearchCV(random_classifier_, param_grid=param_grid, n_jobs=-1, cv= 2,\n",
    "                   scoring='neg_mean_absolute_error')"
   ]
  },
  {
   "cell_type": "code",
   "execution_count": 42,
   "metadata": {},
   "outputs": [
    {
     "data": {
      "text/plain": [
       "GridSearchCV(cv=2, error_score='raise-deprecating',\n",
       "             estimator=RandomForestRegressor(bootstrap=True, criterion='mse',\n",
       "                                             max_depth=None,\n",
       "                                             max_features='auto',\n",
       "                                             max_leaf_nodes=None,\n",
       "                                             min_impurity_decrease=0.0,\n",
       "                                             min_impurity_split=None,\n",
       "                                             min_samples_leaf=1,\n",
       "                                             min_samples_split=2,\n",
       "                                             min_weight_fraction_leaf=0.0,\n",
       "                                             n_estimators='warn', n_jobs=None,\n",
       "                                             oob_score=False, random_state=None,\n",
       "                                             verbose=0, warm_start=False),\n",
       "             iid='warn', n_jobs=-1,\n",
       "             param_grid={'bootstrap': [True], 'max_depth': [6],\n",
       "                         'max_features': [1.0], 'min_samples_leaf': [17],\n",
       "                         'n_estimators': [500], 'random_state': [0]},\n",
       "             pre_dispatch='2*n_jobs', refit=True, return_train_score=False,\n",
       "             scoring='neg_mean_absolute_error', verbose=0)"
      ]
     },
     "execution_count": 42,
     "metadata": {},
     "output_type": "execute_result"
    }
   ],
   "source": [
    "random_gridsearch.fit(X_train,Y_train)"
   ]
  },
  {
   "cell_type": "code",
   "execution_count": 43,
   "metadata": {},
   "outputs": [
    {
     "name": "stdout",
     "output_type": "stream",
     "text": [
      "{'bootstrap': True, 'max_depth': 6, 'max_features': 1.0, 'min_samples_leaf': 17, 'n_estimators': 500, 'random_state': 0}\n"
     ]
    }
   ],
   "source": [
    "best_parameters = random_gridsearch.best_params_\n",
    "print(best_parameters)"
   ]
  },
  {
   "cell_type": "code",
   "execution_count": 44,
   "metadata": {},
   "outputs": [],
   "source": [
    "#Predicting the test set results\n",
    "y_pred_gridsearch = random_gridsearch.predict(X_test)"
   ]
  },
  {
   "cell_type": "code",
   "execution_count": 45,
   "metadata": {},
   "outputs": [
    {
     "data": {
      "text/plain": [
       "array([543380.00745263, 543242.63647526, 273694.17445404, ...,\n",
       "       575456.50552772, 341697.22683734, 268107.51881931])"
      ]
     },
     "execution_count": 45,
     "metadata": {},
     "output_type": "execute_result"
    }
   ],
   "source": [
    "y_pred_gridsearch"
   ]
  },
  {
   "cell_type": "code",
   "execution_count": 46,
   "metadata": {},
   "outputs": [
    {
     "name": "stdout",
     "output_type": "stream",
     "text": [
      "\t***Random Forest Regressor Using Grid Search CV \t***\n",
      "Mean Absolute Error  :  80145.74\n",
      "Mean Squared Error  :  35267250958.0 2\n",
      "R squared Score  :  0.71\n"
     ]
    }
   ],
   "source": [
    "#Mean absolute error(MAE)\n",
    "mae=mean_absolute_error(Y_test.ravel(),y_pred_gridsearch)\n",
    "print(\"\\t***Random Forest Regressor Using Grid Search CV \\t***\")\n",
    "print(\"Mean Absolute Error  : \",round(mae,2))\n",
    "#Mean Squared Error (MSE)\n",
    "mse=mean_squared_error(Y_test.ravel(),y_pred_gridsearch)\n",
    "print(\"Mean Squared Error  : \",round(mse),2)\n",
    "#R-Squared Scores\n",
    "r2=r2_score(Y_test.ravel(),y_pred_gridsearch)\n",
    "print(\"R squared Score  : \", round(r2,2))"
   ]
  },
  {
   "cell_type": "markdown",
   "metadata": {},
   "source": [
    "# Gradient Boosting Regressor Model"
   ]
  },
  {
   "cell_type": "markdown",
   "metadata": {},
   "source": [
    "# Gradient Boosting Regressor Model Using GridSearch"
   ]
  },
  {
   "cell_type": "code",
   "execution_count": 47,
   "metadata": {},
   "outputs": [],
   "source": [
    "gb_clf = GradientBoostingRegressor()\n",
    "\n",
    "\n",
    "parameters = {\n",
    "    \"learning_rate\": [0.2],\n",
    "    \"max_depth\":[6],\n",
    "    \"min_samples_leaf\":[3],\n",
    "    \"max_features\":[1.0],\n",
    "    \"n_estimators\":[500],\n",
    "    \"random_state\":[0]\n",
    "    }"
   ]
  },
  {
   "cell_type": "code",
   "execution_count": 48,
   "metadata": {},
   "outputs": [],
   "source": [
    "gb_gridsearch = GridSearchCV(gb_clf,parameters, n_jobs=-1, \n",
    "                   cv=2, \n",
    "                   scoring='neg_mean_absolute_error',\n",
    "                   verbose=2, refit=True)"
   ]
  },
  {
   "cell_type": "code",
   "execution_count": 49,
   "metadata": {},
   "outputs": [
    {
     "name": "stdout",
     "output_type": "stream",
     "text": [
      "Fitting 2 folds for each of 1 candidates, totalling 2 fits\n"
     ]
    },
    {
     "name": "stderr",
     "output_type": "stream",
     "text": [
      "[Parallel(n_jobs=-1)]: Using backend LokyBackend with 4 concurrent workers.\n",
      "[Parallel(n_jobs=-1)]: Done   2 out of   2 | elapsed:  2.2min finished\n"
     ]
    },
    {
     "data": {
      "text/plain": [
       "GridSearchCV(cv=2, error_score='raise-deprecating',\n",
       "             estimator=GradientBoostingRegressor(alpha=0.9,\n",
       "                                                 criterion='friedman_mse',\n",
       "                                                 init=None, learning_rate=0.1,\n",
       "                                                 loss='ls', max_depth=3,\n",
       "                                                 max_features=None,\n",
       "                                                 max_leaf_nodes=None,\n",
       "                                                 min_impurity_decrease=0.0,\n",
       "                                                 min_impurity_split=None,\n",
       "                                                 min_samples_leaf=1,\n",
       "                                                 min_samples_split=2,\n",
       "                                                 min_weight_fraction_leaf=0.0,\n",
       "                                                 n_estimators=100,\n",
       "                                                 n_iter...\n",
       "                                                 random_state=None,\n",
       "                                                 subsample=1.0, tol=0.0001,\n",
       "                                                 validation_fraction=0.1,\n",
       "                                                 verbose=0, warm_start=False),\n",
       "             iid='warn', n_jobs=-1,\n",
       "             param_grid={'learning_rate': [0.2], 'max_depth': [6],\n",
       "                         'max_features': [1.0], 'min_samples_leaf': [3],\n",
       "                         'n_estimators': [500], 'random_state': [0]},\n",
       "             pre_dispatch='2*n_jobs', refit=True, return_train_score=False,\n",
       "             scoring='neg_mean_absolute_error', verbose=2)"
      ]
     },
     "execution_count": 49,
     "metadata": {},
     "output_type": "execute_result"
    }
   ],
   "source": [
    "gb_gridsearch.fit(X_train, Y_train)   "
   ]
  },
  {
   "cell_type": "code",
   "execution_count": 50,
   "metadata": {},
   "outputs": [
    {
     "name": "stdout",
     "output_type": "stream",
     "text": [
      "{'learning_rate': 0.2, 'max_depth': 6, 'max_features': 1.0, 'min_samples_leaf': 3, 'n_estimators': 500, 'random_state': 0}\n"
     ]
    }
   ],
   "source": [
    "best_parameters = gb_gridsearch.best_params_\n",
    "print(best_parameters)"
   ]
  },
  {
   "cell_type": "code",
   "execution_count": 51,
   "metadata": {},
   "outputs": [],
   "source": [
    "gb_gridsearch_y_pred = gb_gridsearch.predict(X_test)"
   ]
  },
  {
   "cell_type": "code",
   "execution_count": 52,
   "metadata": {},
   "outputs": [
    {
     "data": {
      "text/plain": [
       "array([384909.44740127, 454853.70040912, 298422.32223611, ...,\n",
       "       479613.09716458, 327443.6220574 , 277315.30254235])"
      ]
     },
     "execution_count": 52,
     "metadata": {},
     "output_type": "execute_result"
    }
   ],
   "source": [
    "gb_gridsearch_y_pred"
   ]
  },
  {
   "cell_type": "code",
   "execution_count": 53,
   "metadata": {},
   "outputs": [
    {
     "name": "stdout",
     "output_type": "stream",
     "text": [
      "\t***Gradient Boosting Regressor Using Grid Search CV\t***\n",
      "Mean Absolute Error  :  64621.56\n",
      "Mean Squared Error  :  23949067946.0 2\n",
      "R squared Score  :  0.8\n"
     ]
    }
   ],
   "source": [
    "#Mean absolute error(MAE)\n",
    "mae=mean_absolute_error(Y_test.ravel(),gb_gridsearch_y_pred)\n",
    "print(\"\\t***Gradient Boosting Regressor Using Grid Search CV\\t***\")\n",
    "print(\"Mean Absolute Error  : \",round(mae,2))\n",
    "#Mean Squared Error (MSE)\n",
    "mse=mean_squared_error(Y_test.ravel(),gb_gridsearch_y_pred)\n",
    "print(\"Mean Squared Error  : \",round(mse),2)\n",
    "#R-Squared Scores\n",
    "r2=r2_score(Y_test.ravel(),gb_gridsearch_y_pred)\n",
    "print(\"R squared Score  : \", round(r2,2))"
   ]
  },
  {
   "cell_type": "markdown",
   "metadata": {},
   "source": [
    "# XGBoost Classifier"
   ]
  },
  {
   "cell_type": "markdown",
   "metadata": {},
   "source": [
    "# XGboost Classifier Using GridSearch"
   ]
  },
  {
   "cell_type": "code",
   "execution_count": 54,
   "metadata": {},
   "outputs": [],
   "source": [
    "xgb_model = xgb.XGBRegressor()\n",
    "\n",
    "param = {\n",
    "    \"learning_rate\": [0.2],\n",
    "    \"max_depth\":[6],\n",
    "    \"min_samples_leaf\":[3],\n",
    "    \"max_features\":[1.0],\n",
    "    \"n_estimators\":[500],\n",
    "    \"random_state\":[0]\n",
    "    }\n",
    "\n",
    "\n",
    "xg_clf_gridsearch = GridSearchCV(xgb_model, param_grid=param, n_jobs=-1, \n",
    "                   cv=2, \n",
    "                   scoring='neg_mean_absolute_error',\n",
    "verbose=2, refit=True)"
   ]
  },
  {
   "cell_type": "code",
   "execution_count": 55,
   "metadata": {},
   "outputs": [
    {
     "name": "stdout",
     "output_type": "stream",
     "text": [
      "Fitting 2 folds for each of 1 candidates, totalling 2 fits\n"
     ]
    },
    {
     "name": "stderr",
     "output_type": "stream",
     "text": [
      "[Parallel(n_jobs=-1)]: Using backend LokyBackend with 4 concurrent workers.\n",
      "[Parallel(n_jobs=-1)]: Done   2 out of   2 | elapsed:   41.8s finished\n"
     ]
    },
    {
     "name": "stdout",
     "output_type": "stream",
     "text": [
      "[23:13:26] WARNING: src/objective/regression_obj.cu:152: reg:linear is now deprecated in favor of reg:squarederror.\n"
     ]
    },
    {
     "data": {
      "text/plain": [
       "GridSearchCV(cv=2, error_score='raise-deprecating',\n",
       "             estimator=XGBRegressor(base_score=0.5, booster='gbtree',\n",
       "                                    colsample_bylevel=1, colsample_bynode=1,\n",
       "                                    colsample_bytree=1, gamma=0,\n",
       "                                    importance_type='gain', learning_rate=0.1,\n",
       "                                    max_delta_step=0, max_depth=3,\n",
       "                                    min_child_weight=1, missing=None,\n",
       "                                    n_estimators=100, n_jobs=1, nthread=None,\n",
       "                                    objective='reg:linear', random_state=0,\n",
       "                                    reg_alpha=0, reg_lambda=1,\n",
       "                                    scale_pos_weight=1, seed=None, silent=None,\n",
       "                                    subsample=1, verbosity=1),\n",
       "             iid='warn', n_jobs=-1,\n",
       "             param_grid={'learning_rate': [0.2], 'max_depth': [6],\n",
       "                         'max_features': [1.0], 'min_samples_leaf': [3],\n",
       "                         'n_estimators': [500], 'random_state': [0]},\n",
       "             pre_dispatch='2*n_jobs', refit=True, return_train_score=False,\n",
       "             scoring='neg_mean_absolute_error', verbose=2)"
      ]
     },
     "execution_count": 55,
     "metadata": {},
     "output_type": "execute_result"
    }
   ],
   "source": [
    "xg_clf_gridsearch.fit(X_train, Y_train)"
   ]
  },
  {
   "cell_type": "code",
   "execution_count": 56,
   "metadata": {},
   "outputs": [
    {
     "name": "stdout",
     "output_type": "stream",
     "text": [
      "{'learning_rate': 0.2, 'max_depth': 6, 'max_features': 1.0, 'min_samples_leaf': 3, 'n_estimators': 500, 'random_state': 0}\n"
     ]
    }
   ],
   "source": [
    "best_parameters = xg_clf_gridsearch.best_params_\n",
    "print(best_parameters)"
   ]
  },
  {
   "cell_type": "code",
   "execution_count": 57,
   "metadata": {},
   "outputs": [],
   "source": [
    "xgb_gridsearch_y_pred=xg_clf_gridsearch.predict(X_test)"
   ]
  },
  {
   "cell_type": "code",
   "execution_count": 58,
   "metadata": {},
   "outputs": [
    {
     "name": "stdout",
     "output_type": "stream",
     "text": [
      "\t***XGBoost Regressor Using Grid Search CV\t***\n",
      "Mean Absolute Error  :  60856.81\n",
      "Mean Squared Error  :  24680572975.0 2\n",
      "R squared Score  :  0.79\n"
     ]
    }
   ],
   "source": [
    "#Mean absolute error(MAE)\n",
    "mae=mean_absolute_error(Y_test.ravel(),xgb_gridsearch_y_pred)\n",
    "print(\"\\t***XGBoost Regressor Using Grid Search CV\\t***\")\n",
    "print(\"Mean Absolute Error  : \",round(mae,2))\n",
    "#Mean Squared Error (MSE)\n",
    "mse=mean_squared_error(Y_test.ravel(),xgb_gridsearch_y_pred)\n",
    "print(\"Mean Squared Error  : \",round(mse),2)\n",
    "#R-Squared Scores\n",
    "r2=r2_score(Y_test.ravel(),xgb_gridsearch_y_pred)\n",
    "print(\"R squared Score  : \", round(r2,2))"
   ]
  },
  {
   "cell_type": "markdown",
   "metadata": {},
   "source": [
    "11)  Save the trained model to a file so we can use it in other programs using joblib.dump"
   ]
  },
  {
   "cell_type": "code",
   "execution_count": 59,
   "metadata": {},
   "outputs": [
    {
     "name": "stderr",
     "output_type": "stream",
     "text": [
      "/home/curiousgirl/anaconda3/lib/python3.7/site-packages/sklearn/externals/joblib/__init__.py:15: DeprecationWarning: sklearn.externals.joblib is deprecated in 0.21 and will be removed in 0.23. Please import this functionality directly from joblib, which can be installed with: pip install joblib. If this warning is raised when loading pickled models, you may need to re-serialize those models with scikit-learn 0.21+.\n",
      "  warnings.warn(msg, category=DeprecationWarning)\n"
     ]
    }
   ],
   "source": [
    "from sklearn.externals import joblib"
   ]
  },
  {
   "cell_type": "code",
   "execution_count": 60,
   "metadata": {},
   "outputs": [
    {
     "data": {
      "text/plain": [
       "['xgboost_regressor_model']"
      ]
     },
     "execution_count": 60,
     "metadata": {},
     "output_type": "execute_result"
    }
   ],
   "source": [
    "joblib.dump(xg_clf_gridsearch,'xgboost_regressor_model')"
   ]
  },
  {
   "cell_type": "code",
   "execution_count": 61,
   "metadata": {},
   "outputs": [
    {
     "name": "stdout",
     "output_type": "stream",
     "text": [
      "[23:14:43] WARNING: src/objective/regression_obj.cu:152: reg:linear is now deprecated in favor of reg:squarederror.\n"
     ]
    }
   ],
   "source": [
    "load_model=joblib.load('xgboost_regressor_model')"
   ]
  },
  {
   "cell_type": "code",
   "execution_count": 62,
   "metadata": {},
   "outputs": [
    {
     "data": {
      "text/plain": [
       "GridSearchCV(cv=2, error_score='raise-deprecating',\n",
       "             estimator=XGBRegressor(base_score=0.5, booster='gbtree',\n",
       "                                    colsample_bylevel=1, colsample_bynode=1,\n",
       "                                    colsample_bytree=1, gamma=0,\n",
       "                                    importance_type='gain', learning_rate=0.1,\n",
       "                                    max_delta_step=0, max_depth=3,\n",
       "                                    min_child_weight=1, missing=nan,\n",
       "                                    n_estimators=100, n_jobs=1, nthread=None,\n",
       "                                    objective='reg:linear', random_state=0,\n",
       "                                    reg_alpha=0, reg_lambda=1,\n",
       "                                    scale_pos_weight=1, seed=None, silent=None,\n",
       "                                    subsample=1, verbosity=1),\n",
       "             iid='warn', n_jobs=-1,\n",
       "             param_grid={'learning_rate': [0.2], 'max_depth': [6],\n",
       "                         'max_features': [1.0], 'min_samples_leaf': [3],\n",
       "                         'n_estimators': [500], 'random_state': [0]},\n",
       "             pre_dispatch='2*n_jobs', refit=True, return_train_score=False,\n",
       "             scoring='neg_mean_absolute_error', verbose=2)"
      ]
     },
     "execution_count": 62,
     "metadata": {},
     "output_type": "execute_result"
    }
   ],
   "source": [
    "load_model"
   ]
  },
  {
   "cell_type": "markdown",
   "metadata": {},
   "source": [
    "12)  Find the error rate on the training set"
   ]
  },
  {
   "cell_type": "code",
   "execution_count": 63,
   "metadata": {
    "scrolled": true
   },
   "outputs": [],
   "source": [
    "training_error=1-(xg_clf_gridsearch.score(X_train, Y_train))"
   ]
  },
  {
   "cell_type": "code",
   "execution_count": 64,
   "metadata": {},
   "outputs": [
    {
     "data": {
      "text/plain": [
       "35317.83269352317"
      ]
     },
     "execution_count": 64,
     "metadata": {},
     "output_type": "execute_result"
    }
   ],
   "source": [
    "training_error"
   ]
  },
  {
   "cell_type": "markdown",
   "metadata": {},
   "source": [
    "13) Find the error rate on the training set"
   ]
  },
  {
   "cell_type": "code",
   "execution_count": 65,
   "metadata": {},
   "outputs": [],
   "source": [
    "test_errors=1-(round(r2,2))"
   ]
  },
  {
   "cell_type": "code",
   "execution_count": 66,
   "metadata": {},
   "outputs": [
    {
     "data": {
      "text/plain": [
       "0.20999999999999996"
      ]
     },
     "execution_count": 66,
     "metadata": {},
     "output_type": "execute_result"
    }
   ],
   "source": [
    "test_errors"
   ]
  },
  {
   "cell_type": "markdown",
   "metadata": {},
   "source": [
    "14) Try to give some real values in a list and predict them by loading the file you have saved"
   ]
  },
  {
   "cell_type": "code",
   "execution_count": 67,
   "metadata": {},
   "outputs": [],
   "source": [
    "# Future prediction valuefor 1 \n",
    "# future_pred=xg_clf_gridsearch.predict([0.0,100.0,100.0,200.0,300.0,400.0,500.0,600.0,700.0,800.0,900.0,1000.0,1100.0,1200.0,1300.0,1400.0,1500.0,1600.0,1700.0,1800.0,1900.0,2000.0,2100.0,2200.0,2300.0,2400.0,2500.0,2600.0,2700.0,2800.0,2900.0,3000.0,3100.0,3200.0,3300.0,3400.0,3500.0,3600.0,3700.0,3800.0,3900.0,4000.0,4100.0,4200.0,4300.0,4400.0,4500.0,4600.0,4700.0,4700.0,4700.0,4700.0,4700.0,4700.0,4700.0,4700.0,4700.0,4700.0,4700.0,4700.0,4700.0,4700.0,4700.0,4700.0,4700.0,4700.0])"
   ]
  },
  {
   "cell_type": "code",
   "execution_count": 68,
   "metadata": {},
   "outputs": [],
   "source": [
    "# future_pred   "
   ]
  },
  {
   "cell_type": "code",
   "execution_count": 69,
   "metadata": {},
   "outputs": [],
   "source": [
    "#Future prediction value for 0\n",
    "\n",
    "# future_pred=xg_clf_gridsearch.predict([0.0,1235000.0,12000.0,1100.0,0.0,1400.0,0.0,0.0,1200.0,1800.0,1500.0,0.0,0.0,1600.0,12000.0,0.0,0.0,0.0,0.0,0.0,0.0,0.0,0.0,0.0,0.0,0.0,0.0,1600.0,1600.0,1700.0,2.0,0.0,1100.0,0.0,0.0,1400.0,0.0,1600.0,0.0,1200.0,0.0,1200.0,0.0,1500.0,0.0,1300.0,0.0,1700.0,1200.0,0.0,120.0,1220.0,1500.0,4700.0,0.0,0.0,4700.0,4700.0,4700.0,4700.0,4700.0,4700.0,4700.0,4700.0,4700.0,4700.0])"
   ]
  },
  {
   "cell_type": "code",
   "execution_count": 70,
   "metadata": {},
   "outputs": [],
   "source": [
    "# future_pred"
   ]
  }
 ],
 "metadata": {
  "kernelspec": {
   "display_name": "Python 3",
   "language": "python",
   "name": "python3"
  },
  "language_info": {
   "codemirror_mode": {
    "name": "ipython",
    "version": 3
   },
   "file_extension": ".py",
   "mimetype": "text/x-python",
   "name": "python",
   "nbconvert_exporter": "python",
   "pygments_lexer": "ipython3",
   "version": "3.7.3"
  }
 },
 "nbformat": 4,
 "nbformat_minor": 2
}
